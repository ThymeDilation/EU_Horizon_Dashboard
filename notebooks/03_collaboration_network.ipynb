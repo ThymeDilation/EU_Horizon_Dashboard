{
 "cells": [
  {
   "cell_type": "markdown",
   "metadata": {},
   "source": [
    "# Collaboration Network Analysis\n",
    "\n",
    "`Overview`\n",
    "This notebook analyzes and visualizes collaboration networks between countries and institutions:\n",
    "- Constructing network graphs from project partnership data\n",
    "- Analyzing network metrics (centrality, clustering, community detection)\n",
    "- Creating interactive network visualizations\n",
    "- Identifying key collaboration patterns and influential nodes\n",
    "\n",
    "`Inputs`\n",
    "- Processed project and partnership data from `../data/processed/`\n",
    "\n",
    "`Outputs`\n",
    "- Network analysis results in `../data/results/`\n",
    "- Interactive network visualizations in `../reports/figures/`\n",
    "\n",
    "`Dependencies`\n",
    "- NetworkX\n",
    "- Matplotlib\n",
    "- Plotly\n",
    "- Pandas\n",
    "- Community detection libraries\n",
    "\n",
    "*Note: This is notebook 3 of the analysis pipeline focusing on collaboration patterns*"
   ]
  },
  {
   "cell_type": "code",
   "execution_count": 3,
   "metadata": {},
   "outputs": [],
   "source": [
    "# imports\n",
    "import os\n",
    "import sys\n",
    "import pandas as pd\n",
    "import numpy as np\n",
    "import plotly.express as px\n",
    "import plotly.graph_objects as go\n",
    "from plotly.subplots import make_subplots\n",
    "import networkx as nx\n",
    "\n",
    "# Import custom modules\n",
    "run_dir = os.getcwd()\n",
    "parent_dir = os.path.dirname(run_dir)\n",
    "sys.path.append(parent_dir)\n",
    "\n",
    "from backend.utils.plots import CORDISPlots\n",
    "from backend.classes.cordis_data import CORDIS_data\n",
    "\n",
    "from backend.classes.project_data  import Project_data"
   ]
  },
  {
   "cell_type": "markdown",
   "metadata": {},
   "source": [
    "## Explore possibilities of NetworkX package\n",
    "We aim to create the following plots: \n",
    "- Frequent collaborating institutions. Indicate the 20 most frequent collaborations with lines on a map\n",
    "- Frequently collaborating people. Determine from the authors list of the publications\n",
    "- project-deliverable plots: which projects produce the main number of plots"
   ]
  },
  {
   "cell_type": "code",
   "execution_count": 4,
   "metadata": {},
   "outputs": [],
   "source": [
    "class CORDISPlotter:\n",
    "    def __init__(self, cordis_data):\n",
    "        self.data = cordis_data \n",
    "        \n",
    "    def plot_collaboration_network(self, \n",
    "                                   field_filter=None, \n",
    "                                   org_types = None, \n",
    "                                   max_projects=1000, \n",
    "                                   min_participants=2, \n",
    "                                   countries=None,\n",
    "                                   disciplines=None,\n",
    "                                   year=None,\n",
    "                                   contribution=None,\n",
    "                                   project_type=None):\n",
    "        '''\n",
    "        Function to plot the collaboration network of institutions involved in projects\n",
    "        Parameters:\n",
    "        -----------------\n",
    "        - field_filter: Optional filter for scientific field\n",
    "        - max_projects: Maximum number of projects to include in the plot, to avoid cluttering \n",
    "            (default: 1000, which is still too much)\n",
    "        - min_participants: minimum of participating institutions in a=project to be included. \n",
    "            (default: 2, which is the minimum for a collaboration)\n",
    "        - org_types: List of organization types to include in the plot.\n",
    "            (default: ['HES', 'REC', 'PUB', 'PRC', 'SME']) => all types\n",
    "        - countries: list of counntries of which we include institutions in the plot.\n",
    "            default: None, which means all countries are included.\n",
    "\n",
    "        Returns:\n",
    "        -----------------   \n",
    "        - Plotly figure object\n",
    "        '''\n",
    "        df_proj = self.data.project_df\n",
    "        df_org = self.data.organization_df\n",
    "        # Filter for relevant organization types\n",
    "        if org_types is None:\n",
    "            org_types = ['HES', 'REC', 'PUB', 'PRC', 'SME']\n",
    "        else:\n",
    "            assert type(org_types) == list or type(org_types) == np.array\n",
    "\n",
    "        # Apply scientific field filter if provided\n",
    "        if field_filter:\n",
    "            # Filter projects based on scientific field\n",
    "            df_proj = df_proj[df_proj['sci_voc_titles'].apply(lambda field: field_filter in field if isinstance(field, str) else False)]\n",
    "            project_ids = df_proj['projectID'].unique()\n",
    "            df_org = df_org[df_org['projectID'].isin(project_ids)]\n",
    "            \n",
    "        if org_types:\n",
    "            df_org =df_org[df_org['activityType'].astype(str).isin(org_types)]\n",
    "\n",
    "        if countries:\n",
    "            df_org = df_org[df_org['country'].astype(str).isin(countries)]\n",
    "\n",
    "        if disciplines:\n",
    "            for discipline in disciplines:\n",
    "                df_org = df_org[df_org['discipline'].astype(str).str.contains(discipline, na=False)]\n",
    "\n",
    "        if year:\n",
    "            df_org = df_org[df_org['startDate'].astype(str).str.contains(year, na=False)]\n",
    "\n",
    "        if contribution:\n",
    "            df_org = df_org[df_org['contribution'].astype(float) >= contribution]\n",
    "   \n",
    "        if project_type:\n",
    "            for call in project_type:\n",
    "                \n",
    "                df_org = df_org[df_org['fundingScheme'].astype(str).str.contains(call, na=False)]\n",
    "\n",
    "        df_org = df_org[['projectID', 'name']].drop_duplicates()\n",
    "\n",
    "        # Group by project and filter based on number of participants\n",
    "        collab_df = df_org.groupby('projectID')['name'].apply(list).reset_index()\n",
    "        collab_df = collab_df[collab_df['name'].apply(lambda x: len(x) >= min_participants)]\n",
    "        collab_df = collab_df.head(max_projects)\n",
    "\n",
    "        from itertools import combinations\n",
    "        from collections import Counter\n",
    "\n",
    "        # Build edge list\n",
    "        edge_list = []\n",
    "        for names in collab_df['name']:\n",
    "            edge_list.extend(combinations(names, 2))\n",
    "        edge_counts = Counter(edge_list)\n",
    "\n",
    "        G = nx.Graph()\n",
    "        for (u, v), weight in edge_counts.items():\n",
    "            G.add_edge(u, v, weight=weight)\n",
    "\n",
    "        pos = nx.spring_layout(G, k=0.15, iterations=20)\n",
    "\n",
    "        edge_x, edge_y = [], []\n",
    "        for edge in G.edges():\n",
    "            x0, y0 = pos[edge[0]]\n",
    "            x1, y1 = pos[edge[1]]\n",
    "            edge_x += [x0, x1, None]\n",
    "            edge_y += [y0, y1, None]\n",
    "\n",
    "        edge_trace = go.Scatter(\n",
    "            x=edge_x, y=edge_y,\n",
    "            line=dict(width=0.5, color='#888'),\n",
    "            hoverinfo='none',\n",
    "            mode='lines')\n",
    "\n",
    "        node_x, node_y, node_text = [], [], []\n",
    "        for node in G.nodes():\n",
    "            x, y = pos[node]\n",
    "            node_x.append(x)\n",
    "            node_y.append(y)\n",
    "            node_text.append(node)\n",
    "\n",
    "        node_trace = go.Scatter(\n",
    "            x=node_x, y=node_y,\n",
    "            mode='markers+text',\n",
    "            text=node_text,\n",
    "            textposition='top center',\n",
    "            marker=dict(\n",
    "                showscale=False,\n",
    "                color='blue',\n",
    "                size=10,\n",
    "                line_width=2))\n",
    "        if field_filter:\n",
    "            title = f'Institution Collaboration Network for {field_filter}'\n",
    "        else:\n",
    "            title = 'Institution Collaboration Network'\n",
    "        fig = go.Figure(data=[edge_trace, node_trace],\n",
    "                        layout=go.Layout(\n",
    "                            title=title,\n",
    "                            showlegend=False,\n",
    "                            hovermode='closest',\n",
    "                            margin=dict(b=20, l=5, r=5, t=40),\n",
    "                            xaxis=dict(showgrid=False, zeroline=False),\n",
    "                            yaxis=dict(showgrid=False, zeroline=False)))\n",
    "\n",
    "        fig.show()"
   ]
  },
  {
   "cell_type": "code",
   "execution_count": 5,
   "metadata": {},
   "outputs": [],
   "source": [
    "# load projects class\n",
    "projects_df = pd.read_csv(f'{parent_dir}/data/processed/project_df.csv')\n",
    "organization_df = pd.read_csv(f'{parent_dir}/data/processed/organization_df.csv')"
   ]
  },
  {
   "cell_type": "code",
   "execution_count": 6,
   "metadata": {},
   "outputs": [
    {
     "data": {
      "text/plain": [
       "Index(['id', 'acronym', 'status', 'title', 'startDate', 'endDate', 'totalCost',\n",
       "       'ecMaxContribution', 'legalBasis', 'topics', 'ecSignatureDate',\n",
       "       'frameworkProgramme', 'masterCall', 'subCall', 'fundingScheme',\n",
       "       'nature', 'objective', 'contentUpdateDate', 'rcn', 'grantDoi',\n",
       "       'duration_days', 'duration_months', 'duration_years', 'projectID_x',\n",
       "       'n_institutions', 'projectID_y', 'institutions', 'projectID',\n",
       "       'coordinator_name', 'ecContribution_per_year', 'totalCost_per_year',\n",
       "       'sci_voc_titles', 'sci_voc_paths', 'topic_titles'],\n",
       "      dtype='object')"
      ]
     },
     "execution_count": 6,
     "metadata": {},
     "output_type": "execute_result"
    }
   ],
   "source": [
    "projects_df.keys()"
   ]
  },
  {
   "cell_type": "code",
   "execution_count": 7,
   "metadata": {},
   "outputs": [
    {
     "data": {
      "text/plain": [
       "array(['HORIZON-JU-RIA', 'HORIZON-CSA', 'HORIZON-RIA', 'HORIZON-COFUND',\n",
       "       'HORIZON-JU-CSA', 'HORIZON-EIT-KIC', 'HORIZON-TMA-MSCA-PF-EF',\n",
       "       'CSA', 'HORIZON-AG-UN', 'HORIZON-AG', 'HORIZON-IA',\n",
       "       'HORIZON-TMA-MSCA-SE', 'HORIZON-TMA-MSCA-PF-GF',\n",
       "       'HORIZON-TMA-MSCA-Cofund-D', 'HORIZON-TMA-MSCA-Cofund-P',\n",
       "       'MSCA-PF', 'EURATOM-CSA', 'HORIZON-TMA-MSCA-DN', 'HORIZON-AG-LS',\n",
       "       'EURATOM-IA', 'HORIZON-TMA-MSCA-DN-ID', 'HORIZON-TMA-MSCA-DN-JD',\n",
       "       'HORIZON-PCP', 'HORIZON-JU-IA', 'EURATOM-RIA', 'IA',\n",
       "       'HORIZON-EIC-ACC-BF', 'HORIZON-EIC', 'EIC-ACC', 'HORIZON-EIC-ACC',\n",
       "       'EURATOM-COFUND', 'RIA', 'HORIZON-ERC-POC', 'HORIZON-ERC',\n",
       "       'HORIZON-ERC-SYG', 'ERC', 'ERC-POC', 'EIC'], dtype=object)"
      ]
     },
     "execution_count": 7,
     "metadata": {},
     "output_type": "execute_result"
    }
   ],
   "source": [
    "projects_df['fundingScheme'].unique()"
   ]
  },
  {
   "cell_type": "code",
   "execution_count": 8,
   "metadata": {},
   "outputs": [],
   "source": [
    "horizon_data = CORDIS_data(parent_dir, enrich=False)"
   ]
  },
  {
   "cell_type": "code",
   "execution_count": 9,
   "metadata": {},
   "outputs": [
    {
     "data": {
      "text/plain": [
       "array(['malaria', 'proteins', 'carbohydrates', 'virology',\n",
       "       'coronaviruses', 'vaccines', 'internet of things', 'e-commerce',\n",
       "       'ecosystems', 'orthodontics', 'government systems',\n",
       "       'energy and fuels', 'linguistics', 'obstetrics', 'microbiology',\n",
       "       'mortality', 'diabetes', 'cardiology', 'obesity', 'software'],\n",
       "      dtype=object)"
      ]
     },
     "execution_count": 9,
     "metadata": {},
     "output_type": "execute_result"
    }
   ],
   "source": [
    "horizon_data.sci_voc_df['euroSciVocTitle'].unique()[:20]"
   ]
  },
  {
   "cell_type": "code",
   "execution_count": 10,
   "metadata": {},
   "outputs": [],
   "source": [
    "plots = CORDISPlotter(horizon_data)"
   ]
  },
  {
   "cell_type": "code",
   "execution_count": 11,
   "metadata": {},
   "outputs": [
    {
     "ename": "KeyError",
     "evalue": "'fundingScheme'",
     "output_type": "error",
     "traceback": [
      "\u001b[1;31m---------------------------------------------------------------------------\u001b[0m",
      "\u001b[1;31mKeyError\u001b[0m                                  Traceback (most recent call last)",
      "File \u001b[1;32mc:\\Python311\\Lib\\site-packages\\pandas\\core\\indexes\\base.py:3790\u001b[0m, in \u001b[0;36mIndex.get_loc\u001b[1;34m(self, key)\u001b[0m\n\u001b[0;32m   3789\u001b[0m \u001b[38;5;28;01mtry\u001b[39;00m:\n\u001b[1;32m-> 3790\u001b[0m     \u001b[38;5;28;01mreturn\u001b[39;00m \u001b[38;5;28;43mself\u001b[39;49m\u001b[38;5;241;43m.\u001b[39;49m\u001b[43m_engine\u001b[49m\u001b[38;5;241;43m.\u001b[39;49m\u001b[43mget_loc\u001b[49m\u001b[43m(\u001b[49m\u001b[43mcasted_key\u001b[49m\u001b[43m)\u001b[49m\n\u001b[0;32m   3791\u001b[0m \u001b[38;5;28;01mexcept\u001b[39;00m \u001b[38;5;167;01mKeyError\u001b[39;00m \u001b[38;5;28;01mas\u001b[39;00m err:\n",
      "File \u001b[1;32mindex.pyx:152\u001b[0m, in \u001b[0;36mpandas._libs.index.IndexEngine.get_loc\u001b[1;34m()\u001b[0m\n",
      "File \u001b[1;32mindex.pyx:181\u001b[0m, in \u001b[0;36mpandas._libs.index.IndexEngine.get_loc\u001b[1;34m()\u001b[0m\n",
      "File \u001b[1;32mpandas\\_libs\\hashtable_class_helper.pxi:7080\u001b[0m, in \u001b[0;36mpandas._libs.hashtable.PyObjectHashTable.get_item\u001b[1;34m()\u001b[0m\n",
      "File \u001b[1;32mpandas\\_libs\\hashtable_class_helper.pxi:7088\u001b[0m, in \u001b[0;36mpandas._libs.hashtable.PyObjectHashTable.get_item\u001b[1;34m()\u001b[0m\n",
      "\u001b[1;31mKeyError\u001b[0m: 'fundingScheme'",
      "\nThe above exception was the direct cause of the following exception:\n",
      "\u001b[1;31mKeyError\u001b[0m                                  Traceback (most recent call last)",
      "Cell \u001b[1;32mIn[11], line 1\u001b[0m\n\u001b[1;32m----> 1\u001b[0m \u001b[43mplots\u001b[49m\u001b[38;5;241;43m.\u001b[39;49m\u001b[43mplot_collaboration_network\u001b[49m\u001b[43m(\u001b[49m\u001b[43mfield_filter\u001b[49m\u001b[38;5;241;43m=\u001b[39;49m\u001b[38;5;124;43m'\u001b[39;49m\u001b[38;5;124;43mecosystems\u001b[39;49m\u001b[38;5;124;43m'\u001b[39;49m\u001b[43m,\u001b[49m\u001b[43m \u001b[49m\u001b[43mmax_projects\u001b[49m\u001b[38;5;241;43m=\u001b[39;49m\u001b[38;5;241;43m20\u001b[39;49m\u001b[43m,\u001b[49m\u001b[43m \u001b[49m\u001b[43mmin_participants\u001b[49m\u001b[38;5;241;43m=\u001b[39;49m\u001b[38;5;241;43m4\u001b[39;49m\u001b[43m,\u001b[49m\u001b[43m \u001b[49m\u001b[43morg_types\u001b[49m\u001b[38;5;241;43m=\u001b[39;49m\u001b[43m[\u001b[49m\u001b[38;5;124;43m'\u001b[39;49m\u001b[38;5;124;43mREC\u001b[39;49m\u001b[38;5;124;43m'\u001b[39;49m\u001b[43m]\u001b[49m\u001b[43m,\u001b[49m\u001b[43m \u001b[49m\u001b[43mproject_type\u001b[49m\u001b[43m \u001b[49m\u001b[38;5;241;43m=\u001b[39;49m\u001b[43m[\u001b[49m\u001b[38;5;124;43m'\u001b[39;49m\u001b[38;5;124;43mHORIZON-ERC-SYG\u001b[39;49m\u001b[38;5;124;43m'\u001b[39;49m\u001b[43m]\u001b[49m\u001b[43m)\u001b[49m\n",
      "Cell \u001b[1;32mIn[4], line 67\u001b[0m, in \u001b[0;36mCORDISPlotter.plot_collaboration_network\u001b[1;34m(self, field_filter, org_types, max_projects, min_participants, countries, disciplines, year, contribution, project_type)\u001b[0m\n\u001b[0;32m     64\u001b[0m \u001b[38;5;28;01mif\u001b[39;00m project_type:\n\u001b[0;32m     65\u001b[0m     \u001b[38;5;28;01mfor\u001b[39;00m call \u001b[38;5;129;01min\u001b[39;00m project_type:\n\u001b[1;32m---> 67\u001b[0m         df_org \u001b[38;5;241m=\u001b[39m df_org[\u001b[43mdf_org\u001b[49m\u001b[43m[\u001b[49m\u001b[38;5;124;43m'\u001b[39;49m\u001b[38;5;124;43mfundingScheme\u001b[39;49m\u001b[38;5;124;43m'\u001b[39;49m\u001b[43m]\u001b[49m\u001b[38;5;241m.\u001b[39mastype(\u001b[38;5;28mstr\u001b[39m)\u001b[38;5;241m.\u001b[39mstr\u001b[38;5;241m.\u001b[39mcontains(call, na\u001b[38;5;241m=\u001b[39m\u001b[38;5;28;01mFalse\u001b[39;00m)]\n\u001b[0;32m     69\u001b[0m df_org \u001b[38;5;241m=\u001b[39m df_org[[\u001b[38;5;124m'\u001b[39m\u001b[38;5;124mprojectID\u001b[39m\u001b[38;5;124m'\u001b[39m, \u001b[38;5;124m'\u001b[39m\u001b[38;5;124mname\u001b[39m\u001b[38;5;124m'\u001b[39m]]\u001b[38;5;241m.\u001b[39mdrop_duplicates()\n\u001b[0;32m     71\u001b[0m \u001b[38;5;66;03m# Group by project and filter based on number of participants\u001b[39;00m\n",
      "File \u001b[1;32mc:\\Python311\\Lib\\site-packages\\pandas\\core\\frame.py:3893\u001b[0m, in \u001b[0;36mDataFrame.__getitem__\u001b[1;34m(self, key)\u001b[0m\n\u001b[0;32m   3891\u001b[0m \u001b[38;5;28;01mif\u001b[39;00m \u001b[38;5;28mself\u001b[39m\u001b[38;5;241m.\u001b[39mcolumns\u001b[38;5;241m.\u001b[39mnlevels \u001b[38;5;241m>\u001b[39m \u001b[38;5;241m1\u001b[39m:\n\u001b[0;32m   3892\u001b[0m     \u001b[38;5;28;01mreturn\u001b[39;00m \u001b[38;5;28mself\u001b[39m\u001b[38;5;241m.\u001b[39m_getitem_multilevel(key)\n\u001b[1;32m-> 3893\u001b[0m indexer \u001b[38;5;241m=\u001b[39m \u001b[38;5;28;43mself\u001b[39;49m\u001b[38;5;241;43m.\u001b[39;49m\u001b[43mcolumns\u001b[49m\u001b[38;5;241;43m.\u001b[39;49m\u001b[43mget_loc\u001b[49m\u001b[43m(\u001b[49m\u001b[43mkey\u001b[49m\u001b[43m)\u001b[49m\n\u001b[0;32m   3894\u001b[0m \u001b[38;5;28;01mif\u001b[39;00m is_integer(indexer):\n\u001b[0;32m   3895\u001b[0m     indexer \u001b[38;5;241m=\u001b[39m [indexer]\n",
      "File \u001b[1;32mc:\\Python311\\Lib\\site-packages\\pandas\\core\\indexes\\base.py:3797\u001b[0m, in \u001b[0;36mIndex.get_loc\u001b[1;34m(self, key)\u001b[0m\n\u001b[0;32m   3792\u001b[0m     \u001b[38;5;28;01mif\u001b[39;00m \u001b[38;5;28misinstance\u001b[39m(casted_key, \u001b[38;5;28mslice\u001b[39m) \u001b[38;5;129;01mor\u001b[39;00m (\n\u001b[0;32m   3793\u001b[0m         \u001b[38;5;28misinstance\u001b[39m(casted_key, abc\u001b[38;5;241m.\u001b[39mIterable)\n\u001b[0;32m   3794\u001b[0m         \u001b[38;5;129;01mand\u001b[39;00m \u001b[38;5;28many\u001b[39m(\u001b[38;5;28misinstance\u001b[39m(x, \u001b[38;5;28mslice\u001b[39m) \u001b[38;5;28;01mfor\u001b[39;00m x \u001b[38;5;129;01min\u001b[39;00m casted_key)\n\u001b[0;32m   3795\u001b[0m     ):\n\u001b[0;32m   3796\u001b[0m         \u001b[38;5;28;01mraise\u001b[39;00m InvalidIndexError(key)\n\u001b[1;32m-> 3797\u001b[0m     \u001b[38;5;28;01mraise\u001b[39;00m \u001b[38;5;167;01mKeyError\u001b[39;00m(key) \u001b[38;5;28;01mfrom\u001b[39;00m \u001b[38;5;21;01merr\u001b[39;00m\n\u001b[0;32m   3798\u001b[0m \u001b[38;5;28;01mexcept\u001b[39;00m \u001b[38;5;167;01mTypeError\u001b[39;00m:\n\u001b[0;32m   3799\u001b[0m     \u001b[38;5;66;03m# If we have a listlike key, _check_indexing_error will raise\u001b[39;00m\n\u001b[0;32m   3800\u001b[0m     \u001b[38;5;66;03m#  InvalidIndexError. Otherwise we fall through and re-raise\u001b[39;00m\n\u001b[0;32m   3801\u001b[0m     \u001b[38;5;66;03m#  the TypeError.\u001b[39;00m\n\u001b[0;32m   3802\u001b[0m     \u001b[38;5;28mself\u001b[39m\u001b[38;5;241m.\u001b[39m_check_indexing_error(key)\n",
      "\u001b[1;31mKeyError\u001b[0m: 'fundingScheme'"
     ]
    }
   ],
   "source": [
    "plots.plot_collaboration_network(field_filter='ecosystems', max_projects=20, min_participants=4, org_types=['REC'], project_type =['HORIZON-ERC-SYG'])"
   ]
  },
  {
   "cell_type": "markdown",
   "metadata": {},
   "source": [
    "This works bu we definetely need to work on some filterings. Now it is not clear at all. We optionally include filters on the scientific field, and later on we will also allow filtering on countries.\n",
    "\n",
    "Implemented filters:\n",
    "- `field_filter`: filter on the scientific field (specific, as specified in sci_voc_title). Gives a lot of control.\n",
    "- `org-types`: filter on type of organization: research, public, private, non-profit (IDK what the acronyms stand for)\n",
    "- `max_projects`: maximal number of projects to plot\n",
    "- `min_participants`: minimal number of participating institutes. Must me larger than 2 (minimum to form a colllaboration)\n",
    "- `countries`: filter on countries\n",
    "- `scientific field`: high_level_discipline classification (EuroSciVocPath)\n",
    "- `year`: start year of the project (start_year)\n",
    "- `contribution`: contribution of the different countries\n",
    "- `project_type`: this corresponds to the different calls. e.g. ERC grand are prstigious research grants for big, ambitious, collaborative fundamental research projects\n",
    "\n"
   ]
  },
  {
   "cell_type": "code",
   "execution_count": null,
   "metadata": {},
   "outputs": [],
   "source": []
  },
  {
   "cell_type": "code",
   "execution_count": null,
   "metadata": {},
   "outputs": [],
   "source": []
  },
  {
   "cell_type": "code",
   "execution_count": null,
   "metadata": {},
   "outputs": [],
   "source": []
  }
 ],
 "metadata": {
  "kernelspec": {
   "display_name": "Python 3",
   "language": "python",
   "name": "python3"
  },
  "language_info": {
   "codemirror_mode": {
    "name": "ipython",
    "version": 3
   },
   "file_extension": ".py",
   "mimetype": "text/x-python",
   "name": "python",
   "nbconvert_exporter": "python",
   "pygments_lexer": "ipython3",
   "version": "3.11.0"
  }
 },
 "nbformat": 4,
 "nbformat_minor": 2
}
